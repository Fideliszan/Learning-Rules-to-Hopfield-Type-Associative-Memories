{
 "cells": [
  {
   "cell_type": "code",
   "execution_count": 1,
   "metadata": {},
   "outputs": [],
   "source": [
    "# Pacotes utilizados\n",
    "using MLDatasets\n",
    "using ImageCore\n",
    "using PyPlot\n",
    "using LinearAlgebra\n",
    "using Random\n",
    "using Statistics\n",
    "using Printf\n",
    "using Quaternions\n",
    "using JLD2, FileIO\n",
    "using ProgressMeter\n",
    "using ImageTransformations\n",
    "include(\"RealStorkey.jl\")\n",
    "include(\"Conversion.jl\")\n",
    "rng = MersenneTwister(1234);"
   ]
  },
  {
   "cell_type": "code",
   "execution_count": 7,
   "metadata": {},
   "outputs": [
    {
     "data": {
      "text/plain": [
       "1000"
      ]
     },
     "execution_count": 7,
     "metadata": {},
     "output_type": "execute_result"
    }
   ],
   "source": [
    "# Número de memorias\n",
    "Pv = 1:2:30\n",
    "N = 200\n",
    "# Number of simulations\n",
    "Nsim = 300\n",
    "\n",
    "# numero maximo de iterações\n",
    "it_max = 1000"
   ]
  },
  {
   "cell_type": "code",
   "execution_count": 8,
   "metadata": {},
   "outputs": [
    {
     "data": {
      "text/plain": [
       "0.3"
      ]
     },
     "execution_count": 8,
     "metadata": {},
     "output_type": "execute_result"
    }
   ],
   "source": [
    "NoiseValues = 0.3"
   ]
  },
  {
   "cell_type": "code",
   "execution_count": 9,
   "metadata": {},
   "outputs": [],
   "source": [
    "Success_total_0 = zeros(Float64,(length(Pv),));\n",
    "Success_total_1 = zeros(Float64,(length(Pv),));\n",
    "Success_total_2 = zeros(Float64,(length(Pv),));\n",
    "Success_total_3 = zeros(Float64,(length(Pv),));"
   ]
  },
  {
   "cell_type": "code",
   "execution_count": 10,
   "metadata": {},
   "outputs": [
    {
     "name": "stdout",
     "output_type": "stream",
     "text": [
      "Iteracion\n",
      "1\n",
      " \n"
     ]
    },
    {
     "name": "stderr",
     "output_type": "stream",
     "text": [
      "\r",
      "\u001b[32mProgress:   7%|██▊                                      |  ETA: 0:00:10\u001b[39m"
     ]
    },
    {
     "name": "stdout",
     "output_type": "stream",
     "text": [
      "Iteracion\n",
      "2\n",
      " \n"
     ]
    },
    {
     "name": "stderr",
     "output_type": "stream",
     "text": [
      "\r",
      "\u001b[32mProgress:  13%|█████▌                                   |  ETA: 0:01:44\u001b[39m"
     ]
    },
    {
     "name": "stdout",
     "output_type": "stream",
     "text": [
      "Iteracion\n",
      "3\n",
      " \n"
     ]
    },
    {
     "name": "stderr",
     "output_type": "stream",
     "text": [
      "\r",
      "\u001b[32mProgress:  20%|████████▎                                |  ETA: 0:03:03\u001b[39m"
     ]
    },
    {
     "name": "stdout",
     "output_type": "stream",
     "text": [
      "Iteracion\n",
      "4\n",
      " \n"
     ]
    },
    {
     "name": "stderr",
     "output_type": "stream",
     "text": [
      "\r",
      "\u001b[32mProgress:  27%|██████████▉                              |  ETA: 0:04:08\u001b[39m"
     ]
    },
    {
     "name": "stdout",
     "output_type": "stream",
     "text": [
      "Iteracion\n",
      "5\n",
      " \n"
     ]
    },
    {
     "name": "stderr",
     "output_type": "stream",
     "text": [
      "\r",
      "\u001b[32mProgress:  33%|█████████████▋                           |  ETA: 0:05:07\u001b[39m"
     ]
    },
    {
     "name": "stdout",
     "output_type": "stream",
     "text": [
      "Iteracion\n",
      "6\n",
      " \n"
     ]
    },
    {
     "name": "stderr",
     "output_type": "stream",
     "text": [
      "\r",
      "\u001b[32mProgress:  40%|████████████████▍                        |  ETA: 0:06:09\u001b[39m"
     ]
    },
    {
     "name": "stdout",
     "output_type": "stream",
     "text": [
      "Iteracion\n",
      "7\n",
      " \n"
     ]
    },
    {
     "name": "stderr",
     "output_type": "stream",
     "text": [
      "\r",
      "\u001b[32mProgress:  47%|███████████████████▏                     |  ETA: 0:07:12\u001b[39m"
     ]
    },
    {
     "name": "stdout",
     "output_type": "stream",
     "text": [
      "Iteracion\n",
      "8\n",
      " \n"
     ]
    },
    {
     "name": "stderr",
     "output_type": "stream",
     "text": [
      "\r",
      "\u001b[32mProgress:  53%|█████████████████████▉                   |  ETA: 0:07:47\u001b[39m"
     ]
    },
    {
     "name": "stdout",
     "output_type": "stream",
     "text": [
      "Iteracion\n",
      "9\n",
      " \n"
     ]
    },
    {
     "name": "stderr",
     "output_type": "stream",
     "text": [
      "\r",
      "\u001b[32mProgress:  60%|████████████████████████▋                |  ETA: 0:07:50\u001b[39m"
     ]
    },
    {
     "name": "stdout",
     "output_type": "stream",
     "text": [
      "Iteracion\n",
      "10\n",
      " \n"
     ]
    },
    {
     "name": "stderr",
     "output_type": "stream",
     "text": [
      "\r",
      "\u001b[32mProgress:  67%|███████████████████████████▍             |  ETA: 0:07:25\u001b[39m"
     ]
    },
    {
     "name": "stdout",
     "output_type": "stream",
     "text": [
      "Iteracion\n",
      "11\n",
      " \n"
     ]
    },
    {
     "name": "stderr",
     "output_type": "stream",
     "text": [
      "\r",
      "\u001b[32mProgress:  73%|██████████████████████████████▏          |  ETA: 0:06:53\u001b[39m"
     ]
    },
    {
     "name": "stdout",
     "output_type": "stream",
     "text": [
      "Iteracion\n",
      "12\n",
      " \n"
     ]
    },
    {
     "name": "stderr",
     "output_type": "stream",
     "text": [
      "\r",
      "\u001b[32mProgress:  80%|████████████████████████████████▊        |  ETA: 0:05:42\u001b[39m"
     ]
    },
    {
     "name": "stdout",
     "output_type": "stream",
     "text": [
      "Iteracion\n",
      "13\n",
      " \n"
     ]
    },
    {
     "name": "stderr",
     "output_type": "stream",
     "text": [
      "\r",
      "\u001b[32mProgress:  87%|███████████████████████████████████▌     |  ETA: 0:04:07\u001b[39m"
     ]
    },
    {
     "name": "stdout",
     "output_type": "stream",
     "text": [
      "Iteracion\n",
      "14\n",
      " \n"
     ]
    },
    {
     "name": "stderr",
     "output_type": "stream",
     "text": [
      "\r",
      "\u001b[32mProgress:  93%|██████████████████████████████████████▎  |  ETA: 0:02:14\u001b[39m"
     ]
    },
    {
     "name": "stdout",
     "output_type": "stream",
     "text": [
      "Iteracion\n",
      "15\n",
      " \n"
     ]
    },
    {
     "name": "stderr",
     "output_type": "stream",
     "text": [
      "\r",
      "\u001b[32mProgress: 100%|█████████████████████████████████████████| Time: 0:35:37\u001b[39m\n"
     ]
    }
   ],
   "source": [
    "@showprogress for i=1:length(Pv)\n",
    "    \n",
    "    P = Pv[i]\n",
    "    \n",
    "    println(\"Iteracion\")\n",
    "    println(i)\n",
    "    println(\" \")\n",
    "    \n",
    "    Success_0 = zeros(Int64,(Nsim,));\n",
    "    Success_1 = zeros(Int64,(Nsim,));\n",
    "    Success_2 = zeros(Int64,(Nsim,));\n",
    "    Success_3 = zeros(Int64,(Nsim,)); \n",
    "    \n",
    "    # Synthetic fundamental memory matrix\n",
    "    Ub = 2*rand(rng,Bool,(N,P)).-1;\n",
    "    \n",
    "    for j =1:Nsim\n",
    "        \n",
    "    # Generic Binary Corrupted Vector\n",
    "    xbr = 1.0*copy(Ub[:,1]) .* (1 .- 2*(rand(N,1) .< NoiseValues))      \n",
    "        \n",
    "########################################################################################\n",
    "### Storing Rules ######################################################################\n",
    "########################################################################################        \n",
    "        W_b = RealStorkey.Correlation(Ub)\n",
    "        W_1 = RealStorkey.storkey_learning(Ub,RealStorkey.first)\n",
    "        W_p = RealStorkey.Projection(Ub)\n",
    "        W_2 = RealStorkey.storkey_learning(Ub,RealStorkey.second)\n",
    "      \n",
    "########################################################################################\n",
    "### Correlação ###################################################################\n",
    "########################################################################################        \n",
    "        y1 =  RealStorkey.Asy(W_b,xbr,it_max);\n",
    "\n",
    "        Error = norm(Ub[:,1]-y1)\n",
    "\n",
    "        if Error<1.e-4\n",
    "            Success_0[j] = Success_0[j] + 1\n",
    "        end\n",
    "    \n",
    "########################################################################################\n",
    "### Storkey de Primeira ordem ##################################################################\n",
    "########################################################################################   \n",
    "        \n",
    "        y2 = RealStorkey.Asy(W_1,xbr,it_max); \n",
    "        \n",
    "        Error = norm(Ub[:,1]-y2)\n",
    "\n",
    "        if Error<1.e-4\n",
    "            Success_1[j] = Success_1[j] + 1\n",
    "        end\n",
    "        \n",
    "        y3 = RealStorkey.Asy(W_p,xbr,it_max); \n",
    "        \n",
    "        Error = norm(Ub[:,1]-y3)\n",
    "\n",
    "        if Error<1.e-4\n",
    "            Success_2[j] = Success_2[j] + 1\n",
    "        end \n",
    "        \n",
    "        y4 = RealStorkey.Asy(W_2,xbr,it_max); \n",
    "        \n",
    "        Error = norm(Ub[:,1]-y4)\n",
    "\n",
    "        if Error<1.e-4\n",
    "            Success_3[j] = Success_3[j] + 1\n",
    "        end       \n",
    "        \n",
    "    Success_total_0[i] = sum(Success_0)/Nsim\n",
    "    Success_total_1[i] = sum(Success_1)/Nsim\n",
    "    Success_total_2[i] = sum(Success_2)/Nsim\n",
    "    Success_total_3[i] = sum(Success_3)/Nsim\n",
    "        \n",
    "end\n",
    "    \n",
    "end\n",
    "\n",
    "@save \"JLDs/FixedNoise_Comparison_P.jld2\" Success_total_0 Success_total_1 Success_total_2 Success_total_3  NoiseValues Pv"
   ]
  },
  {
   "cell_type": "code",
   "execution_count": 11,
   "metadata": {},
   "outputs": [
    {
     "data": {
      "image/png": "[encoded data removed]",
      "text/plain": [
       "Figure(PyObject <Figure size 640x480 with 1 Axes>)"
      ]
     },
     "metadata": {},
     "output_type": "display_data"
    },
    {
     "name": "stderr",
     "output_type": "stream",
     "text": [
      "The PostScript backend does not support transparency; partially transparent artists will be rendered opaque.\n",
      "The PostScript backend does not support transparency; partially transparent artists will be rendered opaque.\n"
     ]
    }
   ],
   "source": [
    "@load \"JLDs/FixedNoise_Comparison_P.jld2\"\n",
    "\n",
    "### Correlation ###\n",
    "plot(Pv,Success_total_0,linewidth=1.5,color=\"#ff7f0e\",linestyle =\"dashed\", marker=\"o\",label = \"HNN-Corr\")\n",
    "plot(Pv,Success_total_1,linewidth=1,color=\"red\",linestyle =\"dashed\", marker=\">\",label = \"HNN-S1\")\n",
    "plot(Pv,Success_total_2,linewidth=1,color=\"blue\",linestyle =\"dashed\", marker=\">\",label = \"HNN-Proj\")\n",
    "plot(Pv,Success_total_3,linewidth=1,color=\"#2ca02c\",linestyle =\"dashed\", marker=\">\",label = \"HNN-S2\")\n",
    "\n",
    "\n",
    "xlabel(\"Number of Memories\")\n",
    "ylabel(\"Recall Probability\")\n",
    "#legend(bbox_to_anchor=[1,1],loc=2,borderaxespad=0)\n",
    "legend()\n",
    "title(\"Binary Hopfield Neural Network with pr=0.3\")\n",
    "grid()\n",
    "savefig(\"Figures/RealRecall_P.eps\")\n",
    "savefig(\"Figures/RealRecall_P.pdf\")"
   ]
  },
  {
   "cell_type": "code",
   "execution_count": null,
   "metadata": {},
   "outputs": [],
   "source": []
  },
  {
   "cell_type": "code",
   "execution_count": null,
   "metadata": {},
   "outputs": [],
   "source": []
  }
 ],
 "metadata": {
  "kernelspec": {
   "display_name": "Julia 1.0.3",
   "language": "julia",
   "name": "julia-1.0"
  },
  "language_info": {
   "file_extension": ".jl",
   "mimetype": "application/julia",
   "name": "julia",
   "version": "1.0.3"
  }
 },
 "nbformat": 4,
 "nbformat_minor": 2
}
