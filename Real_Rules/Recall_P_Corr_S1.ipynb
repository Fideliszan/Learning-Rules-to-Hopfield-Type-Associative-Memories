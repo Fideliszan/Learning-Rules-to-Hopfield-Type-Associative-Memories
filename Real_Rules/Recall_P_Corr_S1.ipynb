{
 "cells": [
  {
   "cell_type": "code",
   "execution_count": 1,
   "metadata": {},
   "outputs": [],
   "source": [
    "# Pacotes utilizados\n",
    "using MLDatasets\n",
    "using ImageCore\n",
    "using PyPlot\n",
    "using LinearAlgebra\n",
    "using Random\n",
    "using Statistics\n",
    "using Printf\n",
    "using Quaternions\n",
    "using JLD2, FileIO\n",
    "using ProgressMeter\n",
    "using ImageTransformations\n",
    "include(\"RealStorkey.jl\")\n",
    "include(\"Conversion.jl\")\n",
    "rng = MersenneTwister(1234);"
   ]
  },
  {
   "cell_type": "markdown",
   "metadata": {},
   "source": [
    "### Cargando la base de datos CIFAR"
   ]
  },
  {
   "cell_type": "code",
   "execution_count": 2,
   "metadata": {},
   "outputs": [
    {
     "data": {
      "text/plain": [
       "1000"
      ]
     },
     "execution_count": 2,
     "metadata": {},
     "output_type": "execute_result"
    }
   ],
   "source": [
    "# load full training set\n",
    "train_x, train_y = CIFAR10.traindata();\n",
    "\n",
    "# Número de memorias\n",
    "Pv = 1:2:30\n",
    "\n",
    "# Número de Bits\n",
    "Nbits = 8\n",
    "\n",
    "# Pixeles Imagen\n",
    "imgsize = 5\n",
    "\n",
    "# Number of simulations\n",
    "Nsim = 100\n",
    "\n",
    "# numero maximo de iterações\n",
    "it_max = 1000"
   ]
  },
  {
   "cell_type": "code",
   "execution_count": 3,
   "metadata": {},
   "outputs": [
    {
     "data": {
      "text/plain": [
       "200"
      ]
     },
     "execution_count": 3,
     "metadata": {},
     "output_type": "execute_result"
    }
   ],
   "source": [
    "25*8"
   ]
  },
  {
   "cell_type": "code",
   "execution_count": 4,
   "metadata": {},
   "outputs": [],
   "source": [
    "MultiStates_binary,MultiStates_complex,MultiStates_quat = RealStorkey.Multi_Estados();"
   ]
  },
  {
   "cell_type": "code",
   "execution_count": 5,
   "metadata": {},
   "outputs": [
    {
     "data": {
      "text/plain": [
       "0.5"
      ]
     },
     "execution_count": 5,
     "metadata": {},
     "output_type": "execute_result"
    }
   ],
   "source": [
    "NoiseValues = 0.5"
   ]
  },
  {
   "cell_type": "code",
   "execution_count": 6,
   "metadata": {},
   "outputs": [],
   "source": [
    "Success_total_0 = zeros(Float64,(length(Pv),));\n",
    "Success_total_1 = zeros(Float64,(length(Pv),));\n",
    "Success_total_2 = zeros(Float64,(length(Pv),));\n",
    "#Success_total_3 = zeros(Float64,(length(Pv),));"
   ]
  },
  {
   "cell_type": "code",
   "execution_count": null,
   "metadata": {},
   "outputs": [],
   "source": []
  },
  {
   "cell_type": "code",
   "execution_count": 7,
   "metadata": {},
   "outputs": [
    {
     "name": "stdout",
     "output_type": "stream",
     "text": [
      "Iteracion\n",
      "1\n",
      " \n"
     ]
    },
    {
     "name": "stderr",
     "output_type": "stream",
     "text": [
      "\r",
      "\u001b[32mProgress:   7%|██▊                                      |  ETA: 0:00:43\u001b[39m"
     ]
    },
    {
     "name": "stdout",
     "output_type": "stream",
     "text": [
      "Iteracion\n",
      "2\n",
      " \n"
     ]
    },
    {
     "name": "stderr",
     "output_type": "stream",
     "text": [
      "\r",
      "\u001b[32mProgress:  13%|█████▌                                   |  ETA: 0:00:40\u001b[39m"
     ]
    },
    {
     "name": "stdout",
     "output_type": "stream",
     "text": [
      "Iteracion\n",
      "3\n",
      " \n"
     ]
    },
    {
     "name": "stderr",
     "output_type": "stream",
     "text": [
      "\r",
      "\u001b[32mProgress:  20%|████████▎                                |  ETA: 0:00:45\u001b[39m"
     ]
    },
    {
     "name": "stdout",
     "output_type": "stream",
     "text": [
      "Iteracion\n",
      "4\n",
      " \n"
     ]
    },
    {
     "name": "stderr",
     "output_type": "stream",
     "text": [
      "\r",
      "\u001b[32mProgress:  27%|██████████▉                              |  ETA: 0:00:52\u001b[39m"
     ]
    },
    {
     "name": "stdout",
     "output_type": "stream",
     "text": [
      "Iteracion\n",
      "5\n",
      " \n"
     ]
    },
    {
     "name": "stderr",
     "output_type": "stream",
     "text": [
      "\r",
      "\u001b[32mProgress:  33%|█████████████▋                           |  ETA: 0:00:57\u001b[39m"
     ]
    },
    {
     "name": "stdout",
     "output_type": "stream",
     "text": [
      "Iteracion\n",
      "6\n",
      " \n"
     ]
    },
    {
     "name": "stderr",
     "output_type": "stream",
     "text": [
      "\r",
      "\u001b[32mProgress:  40%|████████████████▍                        |  ETA: 0:01:10\u001b[39m"
     ]
    },
    {
     "name": "stdout",
     "output_type": "stream",
     "text": [
      "Iteracion\n",
      "7\n",
      " \n"
     ]
    },
    {
     "name": "stderr",
     "output_type": "stream",
     "text": [
      "\r",
      "\u001b[32mProgress:  47%|███████████████████▏                     |  ETA: 0:01:17\u001b[39m"
     ]
    },
    {
     "name": "stdout",
     "output_type": "stream",
     "text": [
      "Iteracion\n",
      "8\n",
      " \n"
     ]
    },
    {
     "name": "stderr",
     "output_type": "stream",
     "text": [
      "\r",
      "\u001b[32mProgress:  53%|█████████████████████▉                   |  ETA: 0:01:19\u001b[39m"
     ]
    },
    {
     "name": "stdout",
     "output_type": "stream",
     "text": [
      "Iteracion\n",
      "9\n",
      " \n"
     ]
    },
    {
     "name": "stderr",
     "output_type": "stream",
     "text": [
      "\r",
      "\u001b[32mProgress:  60%|████████████████████████▋                |  ETA: 0:01:19\u001b[39m"
     ]
    },
    {
     "name": "stdout",
     "output_type": "stream",
     "text": [
      "Iteracion\n",
      "10\n",
      " \n"
     ]
    },
    {
     "name": "stderr",
     "output_type": "stream",
     "text": [
      "\r",
      "\u001b[32mProgress:  67%|███████████████████████████▍             |  ETA: 0:01:13\u001b[39m"
     ]
    },
    {
     "name": "stdout",
     "output_type": "stream",
     "text": [
      "Iteracion\n",
      "11\n",
      " \n"
     ]
    },
    {
     "name": "stderr",
     "output_type": "stream",
     "text": [
      "\r",
      "\u001b[32mProgress:  73%|██████████████████████████████▏          |  ETA: 0:01:12\u001b[39m"
     ]
    },
    {
     "name": "stdout",
     "output_type": "stream",
     "text": [
      "Iteracion\n",
      "12\n",
      " \n"
     ]
    },
    {
     "name": "stderr",
     "output_type": "stream",
     "text": [
      "\r",
      "\u001b[32mProgress:  80%|████████████████████████████████▊        |  ETA: 0:00:59\u001b[39m"
     ]
    },
    {
     "name": "stdout",
     "output_type": "stream",
     "text": [
      "Iteracion\n",
      "13\n",
      " \n"
     ]
    },
    {
     "name": "stderr",
     "output_type": "stream",
     "text": [
      "\r",
      "\u001b[32mProgress:  87%|███████████████████████████████████▌     |  ETA: 0:00:43\u001b[39m"
     ]
    },
    {
     "name": "stdout",
     "output_type": "stream",
     "text": [
      "Iteracion\n",
      "14\n",
      " \n"
     ]
    },
    {
     "name": "stderr",
     "output_type": "stream",
     "text": [
      "\r",
      "\u001b[32mProgress:  93%|██████████████████████████████████████▎  |  ETA: 0:00:24\u001b[39m"
     ]
    },
    {
     "name": "stdout",
     "output_type": "stream",
     "text": [
      "Iteracion\n",
      "15\n",
      " \n"
     ]
    },
    {
     "name": "stderr",
     "output_type": "stream",
     "text": [
      "\r",
      "\u001b[32mProgress: 100%|█████████████████████████████████████████| Time: 0:06:26\u001b[39m\n"
     ]
    }
   ],
   "source": [
    "@showprogress for i=1:length(Pv)\n",
    "    \n",
    "    P = Pv[i]\n",
    "    \n",
    "    println(\"Iteracion\")\n",
    "    println(i)\n",
    "    println(\" \")\n",
    "    \n",
    "    Success_0 = zeros(Int64,(Nsim,));\n",
    "    Success_1 = zeros(Int64,(Nsim,));\n",
    "    Success_2 = zeros(Int64,(Nsim,));\n",
    "    Success_3 = zeros(Int64,(Nsim,));    \n",
    "    \n",
    "    for j =1:Nsim\n",
    "        \n",
    "        # Indexes of the fundamental memories\n",
    "        indFM = randperm(rng, size(train_x)[4])[1:P];\n",
    "\n",
    "        # Bipolar fundamental memory set\n",
    "        N = imgsize*imgsize*Nbits\n",
    "        Ub = Array{Int64}(undef,N,P)\n",
    "\n",
    "\n",
    "\n",
    "        for l=1:P\n",
    "\n",
    "            # dataset image\n",
    "            imgx = round.(Int,imresize(Conversion.cifar2gray(train_x[:,:,:,indFM[l]]),(imgsize,imgsize)))\n",
    "\n",
    "            # Binary\n",
    "            imbin,imsize = Conversion.gray2bin(imgx) \n",
    "            Ub[:,l] = imbin[:]\n",
    "\n",
    "        end\n",
    "\n",
    "        #print(size(Ub[:,1]))\n",
    "        # Corrupting First Memory Element\n",
    "        imbin,imsize = Conversion.gray2bin(round.(Int,imresize(Conversion.cifar2gray(train_x[:,:,:,indFM[1]]),(imgsize,imgsize)))) \n",
    "\n",
    "        # Generic Binary Corrupted Vector\n",
    "\n",
    "        # Binary Corrupted Vector\n",
    "        xbr = RealStorkey.noise_split(imbin,MultiStates_binary,NoiseValues)[:] ;\n",
    " \n",
    "        \n",
    "########################################################################################\n",
    "### Storing Rules ######################################################################\n",
    "########################################################################################        \n",
    "        W_b = RealStorkey.Correlation(Ub)\n",
    "        W_1 = RealStorkey.storkey_learning(Ub,RealStorkey.first)\n",
    "        W_p = RealStorkey.Projection(Ub)\n",
    "        #W_2 = RealStorkey.storkey_learning(Ub,RealStorkey.second)\n",
    "        #W_59 = RealStorkey.storkey_59(Ub)        \n",
    "########################################################################################\n",
    "### Correlação ###################################################################\n",
    "########################################################################################        \n",
    "        y1 =  RealStorkey.Asy(W_b,xbr,it_max);\n",
    "\n",
    "        Error = norm(Ub[:,1]-y1)\n",
    "\n",
    "        if Error<1.e-4\n",
    "            Success_0[j] = Success_0[j] + 1\n",
    "        end\n",
    "    \n",
    "########################################################################################\n",
    "### Storkey de Primeira ordem ##################################################################\n",
    "########################################################################################   \n",
    "        \n",
    "        y2 = RealStorkey.Asy(W_1,xbr,it_max); \n",
    "        \n",
    "        Error = norm(Ub[:,1]-y2)\n",
    "\n",
    "        if Error<1.e-4\n",
    "            Success_1[j] = Success_1[j] + 1\n",
    "        end\n",
    "        \n",
    "        y3 = RealStorkey.Asy(W_p,xbr,it_max); \n",
    "        \n",
    "        Error = norm(Ub[:,1]-y3)\n",
    "\n",
    "        if Error<1.e-4\n",
    "            Success_2[j] = Success_2[j] + 1\n",
    "        end        \n",
    "        \n",
    "    Success_total_0[i] = sum(Success_0)/Nsim\n",
    "    Success_total_1[i] = sum(Success_1)/Nsim\n",
    "    Success_total_2[i] = sum(Success_2)/Nsim\n",
    "        \n",
    "end\n",
    "    \n",
    "end\n",
    "\n",
    "@save \"JLDs/FixedNoise_Comparison_P.jld2\" Success_total_0 Success_total_1 Success_total_2  NoiseValues Pv"
   ]
  },
  {
   "cell_type": "code",
   "execution_count": 9,
   "metadata": {},
   "outputs": [
    {
     "data": {
      "image/png": "[encoded data removed]",
      "text/plain": [
       "Figure(PyObject <Figure size 640x480 with 1 Axes>)"
      ]
     },
     "metadata": {},
     "output_type": "display_data"
    },
    {
     "name": "stderr",
     "output_type": "stream",
     "text": [
      "The PostScript backend does not support transparency; partially transparent artists will be rendered opaque.\n",
      "The PostScript backend does not support transparency; partially transparent artists will be rendered opaque.\n"
     ]
    }
   ],
   "source": [
    "@load \"JLDs/FixedNoise_Comparison_P.jld2\"\n",
    "\n",
    "### Correlation ###\n",
    "plot(Pv,Success_total_0,linewidth=1.5,color=\"#ff7f0e\",linestyle =\"dashed\", marker=\"o\",label = \"HNN-Corr\")\n",
    "plot(Pv,Success_total_1,linewidth=1,color=\"#9467bd\",linestyle =\"dashed\", marker=\">\",label = \"HNN-S1\")\n",
    "plot(Pv,Success_total_2,linewidth=1,color=\"blue\",linestyle =\"dashed\", marker=\">\",label = \"HNN-Proj\")\n",
    "\n",
    "\n",
    "xlabel(\"Number of Memories\")\n",
    "ylabel(\"Recall Probability\")\n",
    "#legend(bbox_to_anchor=[1,1],loc=2,borderaxespad=0)\n",
    "legend()\n",
    "title(\"Asynchronous HNN fixed Noise\")\n",
    "grid()\n",
    "savefig(\"Figures/Asynchronous_P.eps\")\n",
    "savefig(\"Figures/Asynchronous_P.pdf\")"
   ]
  },
  {
   "cell_type": "code",
   "execution_count": null,
   "metadata": {},
   "outputs": [],
   "source": []
  }
 ],
 "metadata": {
  "kernelspec": {
   "display_name": "Julia 1.0.3",
   "language": "julia",
   "name": "julia-1.0"
  },
  "language_info": {
   "file_extension": ".jl",
   "mimetype": "application/julia",
   "name": "julia",
   "version": "1.0.3"
  }
 },
 "nbformat": 4,
 "nbformat_minor": 2
}
